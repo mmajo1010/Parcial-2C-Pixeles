{
 "cells": [
  {
   "cell_type": "code",
   "execution_count": 57,
   "id": "ab1154b3-d02f-4d28-a73e-8d9e45d084c7",
   "metadata": {},
   "outputs": [
    {
     "name": "stdout",
     "output_type": "stream",
     "text": [
      "Collecting openpyxl\n",
      "  Downloading openpyxl-3.1.5-py2.py3-none-any.whl.metadata (2.5 kB)\n",
      "Collecting et-xmlfile (from openpyxl)\n",
      "  Downloading et_xmlfile-1.1.0-py3-none-any.whl.metadata (1.8 kB)\n",
      "Downloading openpyxl-3.1.5-py2.py3-none-any.whl (250 kB)\n",
      "Downloading et_xmlfile-1.1.0-py3-none-any.whl (4.7 kB)\n",
      "Installing collected packages: et-xmlfile, openpyxl\n",
      "Successfully installed et-xmlfile-1.1.0 openpyxl-3.1.5\n"
     ]
    }
   ],
   "source": [
    "!pip install openpyxl"
   ]
  },
  {
   "cell_type": "code",
   "execution_count": 27,
   "id": "125de661-c0f7-49c4-b75a-341b9bfc888e",
   "metadata": {},
   "outputs": [],
   "source": [
    "import pandas as pd\n",
    "import numpy as np\n",
    "import os\n"
   ]
  },
  {
   "cell_type": "code",
   "execution_count": 54,
   "id": "b4de25c3-4bea-49dd-9f44-1f5ba3e62c42",
   "metadata": {},
   "outputs": [],
   "source": [
    "path = r'C:/Users/ASUS/Documents/PYTHON/PARCIAL 2C/1 MATRICES_PIXELES/pixeles.xlsx'"
   ]
  },
  {
   "cell_type": "code",
   "execution_count": 58,
   "id": "77e86c41-cefb-470b-a97a-c3381f7ccb09",
   "metadata": {},
   "outputs": [],
   "source": [
    "pixeles_df = pd.read_excel(path)"
   ]
  },
  {
   "cell_type": "code",
   "execution_count": 61,
   "id": "1873c254-1c48-4a5f-8162-6415e536ce1c",
   "metadata": {},
   "outputs": [],
   "source": [
    "pixeles_array = pixeles_df.to_numpy()"
   ]
  },
  {
   "cell_type": "code",
   "execution_count": 62,
   "id": "642b6447-d08d-4d69-acdc-7ee4bdbdd0d9",
   "metadata": {},
   "outputs": [
    {
     "name": "stdout",
     "output_type": "stream",
     "text": [
      "[[0 1 1 0 0]\n",
      " [0 0 1 0 0]\n",
      " [0 0 1 0 0]\n",
      " [0 1 1 1 0]\n",
      " [0 0 0 0 0]]\n"
     ]
    }
   ],
   "source": [
    "print(pixeles_array[:5, :5])  \n"
   ]
  },
  {
   "cell_type": "markdown",
   "id": "57afaf67-76f7-4627-bb2a-cabf8068f133",
   "metadata": {},
   "source": [
    "## Convolución con Kernel 3x3"
   ]
  },
  {
   "cell_type": "code",
   "execution_count": 87,
   "id": "547c1b4a-987d-43a4-9ad0-d1163e2ea5fb",
   "metadata": {},
   "outputs": [],
   "source": [
    "\n",
    "def apply_convolution(matrix, kernel_type='horizontal'):\n",
    "    # Definición de kernels\n",
    "    if kernel_type == 'horizontal':\n",
    "        kernel = np.array([[-1, -1, -1], [0, 0, 0], [1, 1, 1]])\n",
    "    elif kernel_type == 'vertical':\n",
    "        kernel = np.array([[-1, 0, 1], [-1, 0, 1], [-1, 0, 1]])\n",
    "    else:\n",
    "        raise ValueError(\"El tipo de kernel debe ser 'horizontal' o 'vertical'\")\n",
    "    \n",
    "    # Matriz \n",
    "    output = np.zeros_like(matrix)\n",
    "\n",
    "    # Realizar la convolución\n",
    "    for i in range(1, matrix.shape[0] - 1):  \n",
    "        for j in range(1, matrix.shape[1] - 1): \n",
    "            region = matrix[i-1:i+2, j-1:j+2]\n",
    "            output[i, j] = np.sum(region * kernel) # Aplicación del Kernel \n",
    "    \n",
    "    return output"
   ]
  },
  {
   "cell_type": "code",
   "execution_count": 88,
   "id": "08d52bff-b1dc-4a97-859b-b180467eb5e2",
   "metadata": {},
   "outputs": [
    {
     "name": "stdout",
     "output_type": "stream",
     "text": [
      "Matriz después de la convolución:\n",
      "[[ 0  0  0  0  0  0]\n",
      " [ 0 36 36 36 36  0]\n",
      " [ 0 36 36 36 36  0]\n",
      " [ 0 36 36 36 36  0]\n",
      " [ 0  0  0  0  0  0]]\n"
     ]
    }
   ],
   "source": [
    "# Función de convolución\n",
    "convolved_matrix = apply_convolution(pixeles_array, kernel_type='horizontal')\n",
    "print(\"Matriz después de la convolución:\")\n",
    "print(convolved_matrix)\n"
   ]
  },
  {
   "cell_type": "markdown",
   "id": "af3a3cb5-a92c-429f-944d-8919efc8e6f7",
   "metadata": {},
   "source": [
    "## Padding \n"
   ]
  },
  {
   "cell_type": "code",
   "execution_count": 66,
   "id": "5a595398-bdbc-4fd0-a950-4dd4f69e4450",
   "metadata": {},
   "outputs": [],
   "source": [
    "def apply_padding(matrix, padding_size):\n",
    "    # Matriz con ceros alrededor de la original\n",
    "    padded_matrix = np.pad(matrix, pad_width=padding_size, mode='constant', constant_values=0)\n",
    "    return padded_matrix\n"
   ]
  },
  {
   "cell_type": "code",
   "execution_count": 90,
   "id": "b5f305d1-1bfe-45e6-bb20-ff637addbbc8",
   "metadata": {},
   "outputs": [
    {
     "name": "stdout",
     "output_type": "stream",
     "text": [
      "Matriz después de aplicar padding:\n",
      "[[ 0  0  0  0  0  0  0  0]\n",
      " [ 0  1  2  3  4  5  6  0]\n",
      " [ 0  7  8  9 10 11 12  0]\n",
      " [ 0 13 14 15 16 17 18  0]\n",
      " [ 0 19 20 21 22 23 24  0]\n",
      " [ 0 25 26 27 28 29 30  0]\n",
      " [ 0  0  0  0  0  0  0  0]]\n"
     ]
    }
   ],
   "source": [
    "padded_matrix = apply_padding(pixeles_array, padding_size=1)\n",
    "print(\"Matriz después de aplicar padding:\")\n",
    "print(padded_matrix)"
   ]
  },
  {
   "cell_type": "markdown",
   "id": "58ab9b43-f95a-4bd0-8799-a819d847447e",
   "metadata": {},
   "source": [
    "## Stride"
   ]
  },
  {
   "cell_type": "code",
   "execution_count": 91,
   "id": "185485c2-b295-47bf-b2e0-f5d7f61d2621",
   "metadata": {},
   "outputs": [],
   "source": [
    "def apply_stride(matrix, kernel_type='horizontal', stride=2):\n",
    "    if kernel_type == 'horizontal':\n",
    "        kernel = np.array([[-1, -1, -1], [0, 0, 0], [1, 1, 1]])\n",
    "    elif kernel_type == 'vertical':\n",
    "        kernel = np.array([[-1, 0, 1], [-1, 0, 1], [-1, 0, 1]])\n",
    "    else:\n",
    "        raise ValueError(\"El tipo de kernel debe ser 'horizontal' o 'vertical'\")\n",
    "    \n",
    "    # Calculo de tamaño de la nueva matriz\n",
    "    output_rows = (matrix.shape[0] - 2) // stride + 1  # +1 para incluir el último bloque\n",
    "    output_cols = (matrix.shape[1] - 2) // stride + 1  \n",
    "    output = np.zeros((output_rows, output_cols))\n",
    "\n",
    "    # Aplicación convolución con el stride especificado\n",
    "    row = col = 0\n",
    "    for i in range(1, matrix.shape[0] - 1, stride):\n",
    "        for j in range(1, matrix.shape[1] - 1, stride):\n",
    "            region = matrix[i-1:i+2, j-1:j+2]\n",
    "            output[row, col] = np.sum(region * kernel) #Aplicacion del kernel \n",
    "            col += 1\n",
    "        col = 0\n",
    "        row += 1\n",
    "    \n",
    "    return output\n"
   ]
  },
  {
   "cell_type": "code",
   "execution_count": 92,
   "id": "4b5dfcb9-a8eb-4ba7-a345-a0585f88ec46",
   "metadata": {},
   "outputs": [
    {
     "name": "stdout",
     "output_type": "stream",
     "text": [
      "Matriz después del stride:\n",
      "[[36. 36.  0.]\n",
      " [36. 36.  0.]]\n"
     ]
    }
   ],
   "source": [
    "# Aplicación stride con un salto de 2\n",
    "strided_matrix = apply_stride(pixeles_array, kernel_type='horizontal', stride=2)\n",
    "print(\"Matriz después del stride:\")\n",
    "print(strided_matrix)\n"
   ]
  },
  {
   "cell_type": "markdown",
   "id": "534c5b0e-9e94-4273-a55f-0a471726bdcc",
   "metadata": {},
   "source": [
    "## Stacking "
   ]
  },
  {
   "cell_type": "code",
   "execution_count": 83,
   "id": "03fee206-edf1-4b77-b5ec-d95335646d51",
   "metadata": {},
   "outputs": [],
   "source": [
    "def apply_stacking(matrix, n):\n",
    "    stacked_matrices = []\n",
    "    for i in range(n):\n",
    "        kernel_type = 'horizontal' if i % 2 == 0 else 'vertical'  # Alternar tipos de kernel\n",
    "        convolved = apply_convolution(matrix, kernel_type)\n",
    "        stacked_matrices.append(convolved)\n",
    "    return np.array(stacked_matrices)"
   ]
  },
  {
   "cell_type": "code",
   "execution_count": 84,
   "id": "3c429b10-1414-4587-9aa4-0fdc4480448d",
   "metadata": {},
   "outputs": [
    {
     "name": "stdout",
     "output_type": "stream",
     "text": [
      "Matrices apiladas:\n",
      "[[[ 0  0  0  0  0  0]\n",
      "  [ 0 36 36 36 36  0]\n",
      "  [ 0 36 36 36 36  0]\n",
      "  [ 0 36 36 36 36  0]\n",
      "  [ 0  0  0  0  0  0]]\n",
      "\n",
      " [[ 0  0  0  0  0  0]\n",
      "  [ 0  6  6  6  6  0]\n",
      "  [ 0  6  6  6  6  0]\n",
      "  [ 0  6  6  6  6  0]\n",
      "  [ 0  0  0  0  0  0]]\n",
      "\n",
      " [[ 0  0  0  0  0  0]\n",
      "  [ 0 36 36 36 36  0]\n",
      "  [ 0 36 36 36 36  0]\n",
      "  [ 0 36 36 36 36  0]\n",
      "  [ 0  0  0  0  0  0]]]\n"
     ]
    }
   ],
   "source": [
    "# Aplicación stacking para generar 3 mapas de características\n",
    "n = 3\n",
    "stacked_matrices = apply_stacking(pixeles_array, n)\n",
    "print(\"Matrices apiladas:\")\n",
    "print(stacked_matrices)\n"
   ]
  },
  {
   "cell_type": "markdown",
   "id": "2fa023d5-663e-4b43-b2ff-8e5511cb713f",
   "metadata": {},
   "source": [
    " ## Max Polling"
   ]
  },
  {
   "cell_type": "code",
   "execution_count": 76,
   "id": "43d96522-bafc-48c1-85cf-aebc48350d54",
   "metadata": {},
   "outputs": [],
   "source": [
    "def apply_max_pooling(matrix, stride):\n",
    "    output_rows = (matrix.shape[0] - 1) // stride + 1\n",
    "    output_cols = (matrix.shape[1] - 1) // stride + 1\n",
    "    pooled_matrix = np.zeros((output_rows, output_cols))\n",
    "\n",
    "    for i in range(0, matrix.shape[0] - 1, stride):\n",
    "        for j in range(0, matrix.shape[1] - 1, stride):\n",
    "            region = matrix[i:i+2, j:j+2]  # Region de 2x2\n",
    "            pooled_matrix[i // stride, j // stride] = np.max(region)\n",
    "\n",
    "    return pooled_matrix"
   ]
  },
  {
   "cell_type": "code",
   "execution_count": 77,
   "id": "7d4bdc20-210b-41a4-ab71-0433174b8281",
   "metadata": {},
   "outputs": [
    {
     "name": "stdout",
     "output_type": "stream",
     "text": [
      "Matriz después de max pooling:\n",
      "[[ 8. 10. 12.]\n",
      " [20. 22. 24.]\n",
      " [ 0.  0.  0.]]\n"
     ]
    }
   ],
   "source": [
    "# Aplicación max pooling con un stride de 2\n",
    "pooled_matrix = apply_max_pooling(pixeles_array, stride=2)\n",
    "print(\"Matriz después de max pooling:\")\n",
    "print(pooled_matrix)\n"
   ]
  },
  {
   "cell_type": "code",
   "execution_count": 71,
   "id": "c3526cdb-a77d-4f90-9fa4-1aca2375074e",
   "metadata": {},
   "outputs": [
    {
     "name": "stdout",
     "output_type": "stream",
     "text": [
      "Dimensiones de la matriz: (5, 6)\n"
     ]
    }
   ],
   "source": [
    "print(\"Dimensiones de la matriz:\", pixeles_array.shape)"
   ]
  }
 ],
 "metadata": {
  "kernelspec": {
   "display_name": "Python 3 (ipykernel)",
   "language": "python",
   "name": "python3"
  },
  "language_info": {
   "codemirror_mode": {
    "name": "ipython",
    "version": 3
   },
   "file_extension": ".py",
   "mimetype": "text/x-python",
   "name": "python",
   "nbconvert_exporter": "python",
   "pygments_lexer": "ipython3",
   "version": "3.10.11"
  }
 },
 "nbformat": 4,
 "nbformat_minor": 5
}
